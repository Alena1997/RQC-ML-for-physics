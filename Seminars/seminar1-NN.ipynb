{
 "cells": [
  {
   "cell_type": "code",
   "execution_count": 1,
   "metadata": {},
   "outputs": [],
   "source": [
    "import numpy as np\n",
    "import matplotlib.pylab as plt\n",
    "import math\n",
    "%matplotlib inline\n",
    "\n",
    "# fixing random seed\n",
    "np.random.seed(42)"
   ]
  },
  {
   "cell_type": "markdown",
   "metadata": {},
   "source": [
    "# MNIST handwritten digit dataset"
   ]
  },
  {
   "cell_type": "code",
   "execution_count": 2,
   "metadata": {},
   "outputs": [
    {
     "name": "stdout",
     "output_type": "stream",
     "text": [
      "(70000, 784)\n"
     ]
    }
   ],
   "source": [
    "from sklearn.datasets import fetch_openml\n",
    "mnist = fetch_openml('mnist_784', data_home='./')\n",
    "X = mnist['data']\n",
    "print(X.shape)"
   ]
  },
  {
   "cell_type": "code",
   "execution_count": 3,
   "metadata": {},
   "outputs": [
    {
     "data": {
      "image/png": "[encoded data removed]",
      "text/plain": [
       "<Figure size 360x360 with 25 Axes>"
      ]
     },
     "metadata": {
      "needs_background": "light"
     },
     "output_type": "display_data"
    }
   ],
   "source": [
    "n = 5\n",
    "fig, axs = plt.subplots(n, n, figsize = (n,n))\n",
    "\n",
    "for wi in range(n):\n",
    "    for wj in range(n):\n",
    "\n",
    "        axs[wi, wj].axis('off')\n",
    "        axs[wi, wj].imshow(X[wi*n+wj].reshape(28,28), cmap='gray')            "
   ]
  },
  {
   "cell_type": "code",
   "execution_count": 4,
   "metadata": {},
   "outputs": [],
   "source": [
    "# data normalization\n",
    "X = X.astype('float')\n",
    "mean = np.mean(X, axis=0)\n",
    "std = np.std(X, axis=0)\n",
    "X = (X-mean) / (std + 1e-3)"
   ]
  },
  {
   "cell_type": "code",
   "execution_count": 5,
   "metadata": {},
   "outputs": [
    {
     "name": "stdout",
     "output_type": "stream",
     "text": [
      "original ['0' '3' '3' ... '7' '0' '3']\n",
      "one hot [[1. 0. 0.]\n",
      " [0. 1. 0.]\n",
      " [0. 1. 0.]\n",
      " ...\n",
      " [0. 0. 1.]\n",
      " [1. 0. 0.]\n",
      " [0. 1. 0.]]\n",
      "X train shape : (17069, 784) , Labels train shape : (17069, 3) \n",
      "X test shape : (4268, 784) , Labels test shape : (17069, 3)\n"
     ]
    }
   ],
   "source": [
    "# Labels conversion to one-hot encoding and train-test splitting\n",
    "\n",
    "from sklearn.preprocessing import OneHotEncoder\n",
    "from sklearn.model_selection import train_test_split\n",
    "\n",
    "Y = mnist['target']\n",
    "idxs = np.where((Y == '0') | (Y == '3' ) | (Y == '7'))\n",
    "\n",
    "X_n = X[idxs]\n",
    "Y_n = Y[idxs]\n",
    "\n",
    "print('original', Y_n)\n",
    "t = OneHotEncoder(sparse=False, categories='auto')\n",
    "Y_work = t.fit_transform(Y_n.reshape(-1, 1))\n",
    "print('one hot', Y_work)\n",
    "X_train, X_test, Y_train, Y_test = train_test_split(X_n, Y_work, test_size=0.2, stratify=Y_n)\n",
    "print('X train shape :', X_train.shape, ', Labels train shape :', Y_train.shape,\n",
    "     '\\nX test shape :', X_test.shape, ', Labels test shape :', Y_train.shape)"
   ]
  },
  {
   "cell_type": "code",
   "execution_count": 6,
   "metadata": {},
   "outputs": [],
   "source": [
    "class Dense:\n",
    "    def __init__(self, in_size, out_size):\n",
    "        self.W = np.random.normal(scale=1, size=(out_size, in_size)) * np.sqrt(2/(out_size + in_size))\n",
    "        self.b = np.zeros((out_size,1))\n",
    "        \n",
    "    def forward(self, x):\n",
    "        \n",
    "        self.x = x #remember x for backward path\n",
    "#         YOUR CODE HERE\n",
    "\n",
    "\n",
    "#         YOUR CODE HERE\n",
    "        \n",
    "        return z\n",
    "    \n",
    "    def backward(self, dz):\n",
    "        \n",
    "        m = self.x.shape[1] #number of examples in the training set\n",
    "        # gradients calculation\n",
    "#         YOUR CODE HERE\n",
    "\n",
    "#         YOUR CODE HERE\n",
    "        \n",
    "        return self.dx, (self.dW, self.db)\n",
    "    \n",
    "    def update(self, lr):\n",
    "        \n",
    "#         YOUR CODE HERE\n",
    "\n",
    "\n",
    "#         YOUR CODE HERE\n",
    "\n",
    "        return "
   ]
  },
  {
   "cell_type": "code",
   "execution_count": 7,
   "metadata": {},
   "outputs": [
    {
     "name": "stdout",
     "output_type": "stream",
     "text": [
      "output_shape : (2, 3)\n",
      "should be : (2, 3)\n",
      "Forward test passed\n",
      "Bacward test passed\n"
     ]
    }
   ],
   "source": [
    "x_test = np.random.randn(3,5)\n",
    "dense = Dense(5,2)\n",
    "output = dense.forward(x_test.T)\n",
    "\n",
    "out_shape = output.shape\n",
    "print('output_shape :',out_shape)\n",
    "print('should be :', (2,3))\n",
    "\n",
    "if out_shape == (2,3):\n",
    "    print('Forward test passed')\n",
    "\n",
    "dz = np.random.randn(2,3)\n",
    "dx, (dW, db) = dense.backward(dz)\n",
    "\n",
    "if (dx.shape == x_test.T.shape)*(dW.shape == dense.W.shape)*(db.shape == dense.b.shape):\n",
    "    print('Bacward test passed')"
   ]
  },
  {
   "cell_type": "code",
   "execution_count": 8,
   "metadata": {},
   "outputs": [],
   "source": [
    "class Max:\n",
    "    def forward(self, x):\n",
    "        self.x = x #remember x of backward path\n",
    "#         YOUR CODE HERE\n",
    "\n",
    "\n",
    "#         YOUR CODE HERE\n",
    "        \n",
    "        return activation\n",
    "    \n",
    "    def backward(self, dz):\n",
    "        dz[self.x < 0] = 0\n",
    "        return dz"
   ]
  },
  {
   "cell_type": "code",
   "execution_count": 9,
   "metadata": {},
   "outputs": [
    {
     "name": "stdout",
     "output_type": "stream",
     "text": [
      "output_shape : (2, 3)\n",
      "should be : (2, 3)\n",
      "Forward test passed\n",
      "Bacward test passed\n"
     ]
    }
   ],
   "source": [
    "relu = Max()\n",
    "\n",
    "output = relu.forward(output)\n",
    "out_shape = output.shape\n",
    "print('output_shape :',out_shape)\n",
    "print('should be :', (2,3))\n",
    "\n",
    "if out_shape == (2,3):\n",
    "    print('Forward test passed')\n",
    "    \n",
    "dz = np.random.randn(2,3)\n",
    "if relu.backward(dz).shape == (dz.shape):\n",
    "    print('Bacward test passed')"
   ]
  },
  {
   "cell_type": "code",
   "execution_count": 10,
   "metadata": {},
   "outputs": [],
   "source": [
    "class Softmax_Cross_entropy:\n",
    "    \n",
    "    def forward(self, y_true, x):\n",
    "        m = x.shape[1]\n",
    "        self.x = x\n",
    "        self.y = y_true\n",
    "#         YOUR CODE HERE\n",
    "\n",
    "\n",
    "#         YOUR CODE HERE\n",
    "        \n",
    "        return self.sm, self.ce\n",
    "    \n",
    "    def backward(self): \n",
    "        \n",
    "#         YOUR CODE HERE\n",
    "\n",
    "\n",
    "#         YOUR CODE HERE\n",
    "        return delta_z"
   ]
  },
  {
   "cell_type": "code",
   "execution_count": 11,
   "metadata": {},
   "outputs": [],
   "source": [
    "cost = Softmax_Cross_entropy()"
   ]
  },
  {
   "cell_type": "code",
   "execution_count": 12,
   "metadata": {},
   "outputs": [
    {
     "name": "stdout",
     "output_type": "stream",
     "text": [
      "Forward test passed\n",
      "Backward test passed\n"
     ]
    }
   ],
   "source": [
    "sm, ce = cost.forward(dz, output)\n",
    "if sm.shape == dz.shape and ce.shape == ():\n",
    "    print('Forward test passed')\n",
    "    \n",
    "if cost.backward().shape == dz.shape:\n",
    "    print('Backward test passed')"
   ]
  },
  {
   "cell_type": "code",
   "execution_count": 13,
   "metadata": {},
   "outputs": [],
   "source": [
    "class MnistNet:\n",
    "    \n",
    "    def __init__(self):\n",
    "        \n",
    "        self.grads_tape = []\n",
    "        \n",
    "        self.dense_1 = Dense(784, 20)\n",
    "        self.relu = Max()\n",
    "        self.dense_2 = Dense(20, 3)\n",
    "        self.cost = Softmax_Cross_entropy()\n",
    "    \n",
    "    def forward(self, x, y_true):\n",
    "        \n",
    "        z = self.dense_1.forward(x)\n",
    "        a = self.relu.forward(z)\n",
    "        z = self.dense_2.forward(a)\n",
    "        self.y_hat, loss = self.cost.forward(y_true, z)\n",
    "        \n",
    "        return self.y_hat, loss\n",
    "    \n",
    "    def backward(self):\n",
    "        \n",
    "        dz = self.cost.backward()\n",
    "        dz, grads_2 = self.dense_2.backward(dz)\n",
    "        self.grads_tape.append(grads_2)\n",
    "        \n",
    "        dz = self.relu.backward(dz)\n",
    "        dz, grads_1 = self.dense_1.backward(dz)\n",
    "        self.grads_tape.append(grads_1)\n",
    "        \n",
    "        return dz\n",
    "    \n",
    "    def update(self, lr):\n",
    "        \n",
    "        self.dense_1.update(lr)\n",
    "        self.dense_2.update(lr)"
   ]
  },
  {
   "cell_type": "code",
   "execution_count": null,
   "metadata": {},
   "outputs": [],
   "source": [
    "def calculate_accuracy(pred_one_hot, label_one_hot):\n",
    "    \n",
    "    prediction = np.argmax(pred_one_hot.T, axis=1)\n",
    "    labels = np.argmax(label_one_hot, axis=1)\n",
    "    \n",
    "    acc = ((prediction - labels) == 0).sum()/label_one_hot.sum()\n",
    "    \n",
    "    return acc"
   ]
  },
  {
   "cell_type": "code",
   "execution_count": 15,
   "metadata": {
    "scrolled": false
   },
   "outputs": [
    {
     "name": "stdout",
     "output_type": "stream",
     "text": [
      "0 epoch loss. Train : 1.31, Test : 1.18\n",
      " acc. Train : 0.39, Test : 0.46\n",
      "100 epoch loss. Train : 0.17, Test : 0.17\n",
      " acc. Train : 0.96, Test : 0.95\n",
      "200 epoch loss. Train : 0.11, Test : 0.12\n",
      " acc. Train : 0.97, Test : 0.96\n",
      "300 epoch loss. Train : 0.09, Test : 0.1\n",
      " acc. Train : 0.97, Test : 0.97\n",
      "400 epoch loss. Train : 0.08, Test : 0.09\n",
      " acc. Train : 0.98, Test : 0.97\n"
     ]
    }
   ],
   "source": [
    "net = MnistNet()\n",
    "lr = 0.02\n",
    "loss_train, loss_test, acc_train, acc_test = [], [], [], []\n",
    "\n",
    "for epoch in range(100):\n",
    "    L_acc = 0.\n",
    "    y_train_temp, loss_train_temp = net.forward(X_train.T, Y_train.T)\n",
    "    net.backward()\n",
    "    net.update(lr = lr)\n",
    "    \n",
    "    loss_train.append(loss_train_temp)  \n",
    "    train_acc_temp = calculate_accuracy(y_train_temp, Y_train)\n",
    "    acc_train.append(train_acc_temp)\n",
    "    \n",
    "    y_test_temp, loss_test_temp = net.forward(X_test.T, Y_test.T)\n",
    "    loss_test.append(loss_test_temp)\n",
    "    test_acc_temp = calculate_accuracy(y_test_temp, Y_test)\n",
    "    acc_test.append(test_acc_temp)\n",
    "    \n",
    "    if epoch % 100 == 0:\n",
    "        print(\"{} epoch loss. Train : {}, Test : {}\\n acc. Train : {}, Test : {}\".format(epoch, \n",
    "                                                            np.round(loss_train_temp,2),\n",
    "                                                            np.round(loss_test_temp,2),\n",
    "                                                            np.round(train_acc_temp,2),\n",
    "                                                            np.round(test_acc_temp,2)))"
   ]
  },
  {
   "cell_type": "code",
   "execution_count": 16,
   "metadata": {},
   "outputs": [
    {
     "data": {
      "image/png": "[encoded data removed]",
      "text/plain": [
       "<Figure size 720x360 with 2 Axes>"
      ]
     },
     "metadata": {
      "needs_background": "light"
     },
     "output_type": "display_data"
    }
   ],
   "source": [
    "fig, (ax1, ax2) = plt.subplots(1,2,figsize = (10,5))\n",
    "\n",
    "ax1.plot(loss_train, label='train')\n",
    "ax1.plot(loss_test, label='test')\n",
    "ax1.grid()\n",
    "ax1.set_title('Loss')\n",
    "ax1.legend()\n",
    "\n",
    "ax2.plot(acc_train, label='train')\n",
    "ax2.plot(acc_test, label='test')\n",
    "ax2.grid()\n",
    "ax2.set_title('Acuracy')\n",
    "ax2.legend()\n",
    "\n",
    "plt.show()"
   ]
  },
  {
   "cell_type": "code",
   "execution_count": 17,
   "metadata": {},
   "outputs": [],
   "source": [
    "prediction = np.argmax(y_test_temp.T, axis=1)\n",
    "true_labels = np.argmax(Y_test, axis=1)\n",
    "correct = np.where(prediction - true_labels == 0)[0]\n",
    "mistake = np.where(prediction - true_labels != 0)[0]"
   ]
  },
  {
   "cell_type": "code",
   "execution_count": 18,
   "metadata": {},
   "outputs": [],
   "source": [
    "true_dict = {'0':0,'1':3,'2':7}"
   ]
  },
  {
   "cell_type": "code",
   "execution_count": 19,
   "metadata": {},
   "outputs": [
    {
     "data": {
      "image/png": "[encoded data removed]",
      "text/plain": [
       "<Figure size 360x360 with 9 Axes>"
      ]
     },
     "metadata": {
      "needs_background": "light"
     },
     "output_type": "display_data"
    }
   ],
   "source": [
    "X_test_correct = (X_test*std + mean)[correct]\n",
    "pred_correct = prediction[correct]\n",
    "\n",
    "n = 3\n",
    "fig, axs = plt.subplots(n, n, figsize = (5,5))\n",
    "\n",
    "for wi in range(n):\n",
    "    for wj in range(n):\n",
    "\n",
    "        axs[wi, wj].axis('off')\n",
    "        axs[wi, wj].imshow(X_test_correct[wi*n+wj].reshape(28,28), cmap='gray')  \n",
    "        axs[wi, wj].set_title(true_dict[str(pred_correct[wi*n+wj])])"
   ]
  },
  {
   "cell_type": "code",
   "execution_count": 20,
   "metadata": {},
   "outputs": [
    {
     "data": {
      "image/png": "[encoded data removed]",
      "text/plain": [
       "<Figure size 360x360 with 9 Axes>"
      ]
     },
     "metadata": {
      "needs_background": "light"
     },
     "output_type": "display_data"
    }
   ],
   "source": [
    "X_test_wrong = (X_test*std + mean)[mistake]\n",
    "pred_wrong = prediction[mistake]\n",
    "\n",
    "n = 3\n",
    "fig, axs = plt.subplots(n, n, figsize = (5,5))\n",
    "\n",
    "for wi in range(n):\n",
    "    for wj in range(n):\n",
    "\n",
    "        axs[wi, wj].axis('off')\n",
    "        axs[wi, wj].imshow(X_test_wrong[wi*n+wj].reshape(28,28), cmap='gray')  \n",
    "        axs[wi, wj].set_title(true_dict[str(pred_wrong[wi*n+wj])])"
   ]
  },
  {
   "cell_type": "markdown",
   "metadata": {},
   "source": [
    "# HW"
   ]
  },
  {
   "cell_type": "markdown",
   "metadata": {},
   "source": [
    "#### Do:\n",
    "1) Several hidden layers\n",
    "2) MNIST digits classification with all 10 classes. Reach at least 96 % accuracy on the test set"
   ]
  },
  {
   "cell_type": "code",
   "execution_count": null,
   "metadata": {},
   "outputs": [],
   "source": []
  }
 ],
 "metadata": {
  "kernelspec": {
   "display_name": "Python 3",
   "language": "python",
   "name": "python3"
  },
  "language_info": {
   "codemirror_mode": {
    "name": "ipython",
    "version": 3
   },
   "file_extension": ".py",
   "mimetype": "text/x-python",
   "name": "python",
   "nbconvert_exporter": "python",
   "pygments_lexer": "ipython3",
   "version": "3.7.3"
  }
 },
 "nbformat": 4,
 "nbformat_minor": 2
}
