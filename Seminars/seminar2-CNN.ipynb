{
 "cells": [
  {
   "cell_type": "markdown",
   "metadata": {},
   "source": [
    "# Convolutional NN"
   ]
  },
  {
   "cell_type": "code",
   "execution_count": null,
   "metadata": {},
   "outputs": [],
   "source": [
    "def my_conv2d(x, kernel, stride=(1,1), padding=(0,0), bias=None):\n",
    "    x = x.unsqueeze(0)\n",
    "    (B, C, H, W) = x.shape\n",
    "    (C, H_k, W_k) = kernel.shape\n",
    "    Pad = torch.nn.ZeroPad2d(padding)\n",
    "    x = Pad(x)\n",
    "    Hout, Wout = (H + 2*padding[0] - H_k)//stride[0]+1, (W + 2*padding[1] - W_k)//stride[1]+1\n",
    "    Z = torch.zeros(B, Hout, Wout)\n",
    "    for h in range(Hout):\n",
    "        vert_st = h*stride[0]\n",
    "        vert_end = vert_st + H_k\n",
    "        for w in range(Wout):\n",
    "            hor_st = w*stride[1]\n",
    "            hor_end = hor_st + W_k\n",
    "            s = x[:, :,vert_st:vert_end, hor_st:hor_end]*kernel\n",
    "            if bias:\n",
    "                s += bias\n",
    "            Z[:,h,w] = torch.sum(s[:])\n",
    "    return Z.squeeze(0)"
   ]
  },
  {
   "cell_type": "code",
   "execution_count": null,
   "metadata": {},
   "outputs": [],
   "source": [
    "import torch\n",
    "import torchvision as tv\n",
    "\n",
    "import matplotlib.pyplot as plt\n",
    "%matplotlib inline\n",
    "\n",
    "from PIL import Image\n",
    "cat_convolve = Image.open('./images/cat.jpg')\n",
    "plt.imshow(cat_convolve)"
   ]
  },
  {
   "cell_type": "code",
   "execution_count": null,
   "metadata": {},
   "outputs": [],
   "source": [
    "cat_tensor = tv.transforms.ToTensor()(cat_convolve)\n",
    "print (cat_tensor.size())"
   ]
  },
  {
   "cell_type": "markdown",
   "metadata": {},
   "source": [
    "### Edges detector\n",
    "$$\n",
    "\\begin{bmatrix}\n",
    "    -1       & -1 & -1  \\\\\n",
    "    -1       & 8 & -1 \\\\\n",
    "    -1       & -1 & -1\n",
    "\\end{bmatrix}\n",
    "$$"
   ]
  },
  {
   "cell_type": "code",
   "execution_count": null,
   "metadata": {},
   "outputs": [],
   "source": [
    "filter_kernel = torch.FloatTensor(3,3,3).fill_(-1)\n",
    "filter_kernel[:,1,1] = 8\n",
    "print(filter_kernel.size())"
   ]
  },
  {
   "cell_type": "code",
   "execution_count": null,
   "metadata": {},
   "outputs": [],
   "source": [
    "o_image = my_conv2d(cat_tensor, filter_kernel)\n",
    "o_image[o_image >= 0.5] = 1\n",
    "o_image[o_image < 0.5] = 0\n",
    "print(o_image.size())\n",
    "plt.imshow(o_image.numpy(), cmap='gray')"
   ]
  },
  {
   "cell_type": "markdown",
   "metadata": {},
   "source": [
    "### - horizontal edges\n",
    "$$\n",
    "\\begin{bmatrix}\n",
    "    1       & 1 & 1  \\\\\n",
    "    0       & 0 & 0 \\\\\n",
    "    -1       & -1 & -1\n",
    "\\end{bmatrix}\n",
    "$$"
   ]
  },
  {
   "cell_type": "code",
   "execution_count": null,
   "metadata": {},
   "outputs": [],
   "source": [
    "filter_kernel = torch.FloatTensor(3,3,3).fill_(1)\n",
    "filter_kernel[:,1,:] = 0\n",
    "filter_kernel[:,2,:] = -1\n",
    "print(filter_kernel.size())"
   ]
  },
  {
   "cell_type": "code",
   "execution_count": null,
   "metadata": {},
   "outputs": [],
   "source": [
    "o_image = my_conv2d(cat_tensor, filter_kernel)\n",
    "o_image[o_image >= 0.5] = 1\n",
    "o_image[o_image < 0.5] = 0\n",
    "print(o_image.size())\n",
    "plt.imshow(o_image.numpy(), cmap='gray')"
   ]
  },
  {
   "cell_type": "markdown",
   "metadata": {},
   "source": [
    "### - vertical edges\n",
    "$$\n",
    "\\begin{bmatrix}\n",
    "    1       & 0 & -1  \\\\\n",
    "    1       & 0 & -1 \\\\\n",
    "    1       & 0 & -1\n",
    "\\end{bmatrix}\n",
    "$$"
   ]
  },
  {
   "cell_type": "code",
   "execution_count": null,
   "metadata": {},
   "outputs": [],
   "source": [
    "filter_kernel = torch.FloatTensor(3,3,3).fill_(1)\n",
    "filter_kernel[:,:,1] = 0\n",
    "filter_kernel[:,:,2] = -1\n",
    "print(filter_kernel.size())"
   ]
  },
  {
   "cell_type": "code",
   "execution_count": null,
   "metadata": {},
   "outputs": [],
   "source": [
    "o_image = my_conv2d(cat_tensor, filter_kernel)\n",
    "o_image[o_image >= 0.5] = 1\n",
    "o_image[o_image < 0.5] = 0\n",
    "print(o_image.size())\n",
    "plt.imshow(o_image.numpy(), cmap='gray')"
   ]
  },
  {
   "cell_type": "markdown",
   "metadata": {},
   "source": [
    "# MNIST with CNN"
   ]
  },
  {
   "cell_type": "code",
   "execution_count": null,
   "metadata": {},
   "outputs": [],
   "source": [
    "import numpy as np\n",
    "from sklearn.metrics import accuracy_score\n",
    "from sklearn.model_selection import train_test_split\n",
    "from sklearn.datasets import fetch_openml"
   ]
  },
  {
   "cell_type": "code",
   "execution_count": null,
   "metadata": {},
   "outputs": [],
   "source": [
    "#dataset load\n",
    "mnist = fetch_openml('mnist_784', data_home='./')"
   ]
  },
  {
   "cell_type": "code",
   "execution_count": null,
   "metadata": {},
   "outputs": [],
   "source": [
    "X = mnist['data'].reshape(-1, 28, 28)\n",
    "X = X.astype('float')\n",
    "Y = mnist['target']\n",
    "Y = np.array(list(map(int, Y)))"
   ]
  },
  {
   "cell_type": "code",
   "execution_count": null,
   "metadata": {},
   "outputs": [],
   "source": [
    "# data normalization\n",
    "Xm = np.mean(X, axis=0)\n",
    "Xs = np.std(X, axis=0)\n",
    "X=(X - Xm) / (Xs + 0.01)"
   ]
  },
  {
   "cell_type": "code",
   "execution_count": null,
   "metadata": {},
   "outputs": [],
   "source": [
    "#train and test split\n",
    "X_train, X_test, Y_train, Y_test = train_test_split(X, Y, test_size=0.2, shuffle=True)"
   ]
  },
  {
   "cell_type": "code",
   "execution_count": null,
   "metadata": {},
   "outputs": [],
   "source": [
    "device = torch.device('cuda' if torch.cuda.is_available() else 'cpu')\n",
    "# device = torch.device('cpu')"
   ]
  },
  {
   "cell_type": "code",
   "execution_count": null,
   "metadata": {},
   "outputs": [],
   "source": [
    "# data convertion to torch.tensor\n",
    "X_train = torch.from_numpy(X_train).to(dtype=torch.float32).to(device)\n",
    "X_test = torch.from_numpy(X_test).to(dtype=torch.float32).to(device)\n",
    "Y_train = torch.from_numpy(Y_train).to(dtype=torch.long).to(device)\n",
    "Y_test = torch.from_numpy(Y_test).to(dtype=torch.long).to(device)"
   ]
  },
  {
   "cell_type": "code",
   "execution_count": null,
   "metadata": {},
   "outputs": [],
   "source": [
    "import torch.nn.functional as F\n",
    "import torch.nn as nn\n",
    "\n",
    "class Net(nn.Module):\n",
    "    def __init__(self, input_shape):\n",
    "        super(Net, self).__init__()\n",
    "        \n",
    "        self.conv = nn.Sequential(\n",
    "            nn.Conv2d(1,8,kernel_size=5,stride=1),\n",
    "            nn.ReLU(),\n",
    "            nn.MaxPool2d(kernel_size=2,stride=2),\n",
    "            nn.Conv2d(8,16,kernel_size=2,stride=2),\n",
    "            nn.ReLU(),\n",
    "            nn.MaxPool2d(kernel_size=2,stride=2)            \n",
    "        )\n",
    "        \n",
    "        conv_out_size = self._get_conv_out(input_shape)\n",
    "        \n",
    "        self.fc = nn.Sequential(\n",
    "            nn.Linear(conv_out_size,64),\n",
    "            nn.ReLU(),\n",
    "            nn.Linear(64,10))\n",
    "    \n",
    "    def _get_conv_out(self, shape):\n",
    "        o = self.conv(torch.zeros(1, *shape))\n",
    "        return int(np.prod(o.shape))\n",
    "\n",
    "    def forward(self, x):\n",
    "        x = self.conv(x).view(x.shape[0],-1)\n",
    "\n",
    "        return self.fc(x)\n",
    "    \n",
    "# minibatches\n",
    "def iterate_minibatches(X, y, batchsize):\n",
    "    indices = np.random.permutation(np.arange(len(X)))\n",
    "    for start in range(0, len(indices), batchsize):\n",
    "        ix = indices[start: start + batchsize]\n",
    "        yield X[ix], y[ix]"
   ]
  },
  {
   "cell_type": "code",
   "execution_count": null,
   "metadata": {},
   "outputs": [],
   "source": [
    "# network creation \n",
    "net = Net(X_train.unsqueeze(1).shape[1:]).to(device)\n",
    "# optimizer and loss function selection\n",
    "optimizer = torch.optim.Adam(net.parameters(), lr=1e-3)\n",
    "loss_entropy = nn.CrossEntropyLoss()"
   ]
  },
  {
   "cell_type": "code",
   "execution_count": null,
   "metadata": {},
   "outputs": [],
   "source": [
    "# our NN\n",
    "print(net)"
   ]
  },
  {
   "cell_type": "code",
   "execution_count": null,
   "metadata": {},
   "outputs": [],
   "source": [
    "num_iteration = 15\n",
    "batch_size = 256"
   ]
  },
  {
   "cell_type": "code",
   "execution_count": null,
   "metadata": {},
   "outputs": [],
   "source": [
    "L_train = []\n",
    "L_test = []\n",
    "test_accuracy = []\n",
    "\n",
    "for iter in range(num_iteration):\n",
    "\n",
    "    L = 0.\n",
    "    # train\n",
    "    net.train(True)\n",
    "    for X_batch, y_batch in iterate_minibatches(X_train, Y_train, batch_size):\n",
    "        loss = loss_entropy(net(X_batch.unsqueeze(1)), y_batch)\n",
    "        loss.backward()\n",
    "        optimizer.step()\n",
    "        optimizer.zero_grad()\n",
    "        L += loss.cpu().detach().numpy()\n",
    "    L_train.append(L/Y_train.shape[0])\n",
    "    \n",
    "    # test\n",
    "    L = 0.\n",
    "    net.train(False)    \n",
    "    for X_batch, y_batch in iterate_minibatches(X_test, Y_test, batch_size):\n",
    "        with torch.no_grad():\n",
    "            loss = loss_entropy(net(X_batch.unsqueeze(1)), y_batch)\n",
    "            L += loss.cpu().numpy()\n",
    "            \n",
    "    Y_pred = net.forward(X_test.unsqueeze(1)).cpu().detach().numpy().argmax(1)\n",
    "    L_test.append(L/Y_test.shape[0])\n",
    "    \n",
    "    test_accuracy.append(accuracy_score(Y_pred, Y_test.cpu().numpy()))\n",
    "    print(\"{} iter loss. Train : {} . Test : {} Test accuracy {}\"\n",
    "          .format(iter, np.round(L_train[-1],4), np.round(L_test[-1],4), np.round(test_accuracy[-1],3)))"
   ]
  },
  {
   "cell_type": "code",
   "execution_count": null,
   "metadata": {},
   "outputs": [],
   "source": [
    "fig, (ax1, ax2) = plt.subplots(1,2,figsize = (10,5))\n",
    "\n",
    "ax1.plot(L_train, label='train')\n",
    "ax1.plot(L_test, label='test')\n",
    "ax1.grid()\n",
    "ax1.set_title('Loss')\n",
    "ax1.legend()\n",
    "\n",
    "ax2.plot(test_accuracy, label='test')\n",
    "ax2.grid()\n",
    "ax2.set_title('Accuracy')\n",
    "ax2.legend()\n",
    "\n",
    "plt.show()"
   ]
  },
  {
   "cell_type": "code",
   "execution_count": null,
   "metadata": {},
   "outputs": [],
   "source": []
  }
 ],
 "metadata": {
  "kernelspec": {
   "display_name": "Python 3",
   "language": "python",
   "name": "python3"
  },
  "language_info": {
   "codemirror_mode": {
    "name": "ipython",
    "version": 3
   },
   "file_extension": ".py",
   "mimetype": "text/x-python",
   "name": "python",
   "nbconvert_exporter": "python",
   "pygments_lexer": "ipython3",
   "version": "3.7.4"
  }
 },
 "nbformat": 4,
 "nbformat_minor": 2
}
